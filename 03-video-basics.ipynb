{
 "cells": [
  {
   "cell_type": "code",
   "execution_count": 3,
   "metadata": {},
   "outputs": [],
   "source": [
    "import cv2"
   ]
  },
  {
   "cell_type": "markdown",
   "metadata": {},
   "source": [
    "# 1. Capturing Web Cam Video"
   ]
  },
  {
   "cell_type": "code",
   "execution_count": 10,
   "metadata": {},
   "outputs": [],
   "source": [
    "# capturing default video input\n",
    "cap = cv2.VideoCapture(0)\n",
    "\n",
    "# capturing height and width of captured image\n",
    "width = int(cap.get(cv2.CAP_PROP_FRAME_WIDTH))\n",
    "height = int(cap.get(cv2.CAP_PROP_FRAME_HEIGHT))\n",
    "\n",
    "# windows - DIVX \n",
    "# MACOS or LINUX - XVID\n",
    "\n",
    "writer = cv2.VideoWriter(\"myvideo.mp4\", cv2.VideoWriter_fourcc(*\"DIVX\"), 20, (width, height))\n",
    "\n",
    "while True:\n",
    "    \n",
    "    # grab the frame \n",
    "    ret, frame = cap.read()\n",
    "    \n",
    "    gray = cv2.cvtColor(frame, cv2.COLOR_BGR2GRAY)\n",
    "    \n",
    "    writer.write(frame)\n",
    "    \n",
    "    cv2.imshow('frame', gray)\n",
    "    \n",
    "    # if you want to show the raw image itself\n",
    "    # cv2.imshow('frame', frame)\n",
    "    \n",
    "    if cv2.waitKey(1) & 0xFF == ord(\"q\"):\n",
    "        break\n",
    "        \n",
    "cap.release()\n",
    "writer.release()\n",
    "cv2.destroyAllWindows()"
   ]
  },
  {
   "cell_type": "markdown",
   "metadata": {},
   "source": [
    "# 2. Existing Video Files"
   ]
  },
  {
   "cell_type": "code",
   "execution_count": 12,
   "metadata": {},
   "outputs": [],
   "source": [
    "import time\n",
    "\n",
    "cap = cv2.VideoCapture(\"myvideo.mp4\")\n",
    "\n",
    "if cap.isOpened() == False:\n",
    "    print(\"Error! File not found or wrong codec used.\")\n",
    "    \n",
    "while cap.isOpened():\n",
    "    \n",
    "    ret, frame = cap.read()\n",
    "    \n",
    "    if ret == True:\n",
    "        \n",
    "        # writer 20 FPS\n",
    "        time.sleep(1/20)\n",
    "        cv2.imshow(\"frame\", frame)\n",
    "        \n",
    "        if cv2.waitKey(10) & 0xFF == ord('q'):\n",
    "            break\n",
    "    \n",
    "    else:\n",
    "        break\n",
    "        \n",
    "cap.release()\n",
    "cv2.destroyAllWindows()"
   ]
  },
  {
   "cell_type": "markdown",
   "metadata": {},
   "source": [
    "# 3. Drawing on Video"
   ]
  },
  {
   "cell_type": "code",
   "execution_count": 13,
   "metadata": {},
   "outputs": [],
   "source": [
    "# NOTE: drawing the static rectangle on the video\n",
    "\n",
    "cap = cv2.VideoCapture(0)\n",
    "\n",
    "width = int(cap.get(cv2.CAP_PROP_FRAME_WIDTH))\n",
    "height = int(cap.get(cv2.CAP_PROP_FRAME_HEIGHT))\n",
    "\n",
    "# TOP left corner \n",
    "x = width // 2\n",
    "y = height // 2\n",
    "\n",
    "w = width // 4\n",
    "h = height // 4\n",
    "\n",
    "# BOTTOM right corner x+w and y+h\n",
    "\n",
    "while True:\n",
    "    ret, frame = cap.read()\n",
    "    \n",
    "    cv2.rectangle(frame, (x, y), (x+w, y+h), color=(0, 0, 255), thickness=4)\n",
    "    \n",
    "    cv2.imshow(\"frame\", frame)\n",
    "    \n",
    "    if cv2.waitKey(1) & 0xFF == ord('q'):\n",
    "        break\n",
    "        \n",
    "cap.release()\n",
    "cv2.destroyAllWindows()"
   ]
  },
  {
   "cell_type": "code",
   "execution_count": 3,
   "metadata": {},
   "outputs": [],
   "source": [
    "# NOTE: interactove drawing on the video\n",
    "\n",
    "# CALLBACK FUNCTION\n",
    "def draw_rectangle(event, x, y,flags, param):\n",
    "    \n",
    "    global pt1, pt2, topleft_clicked, botright_clicked\n",
    "    \n",
    "    \n",
    "    if event == cv2.EVENT_LBUTTONDOWN:\n",
    "        \n",
    "        # reset the ractangle\n",
    "        if topleft_clicked == True and botright_clicked == True:\n",
    "            pt1 = (0, 0)\n",
    "            pt2 = (0, 0)\n",
    "            topleft_clicked = False\n",
    "            botright_clicked = False\n",
    "            \n",
    "        if topleft_clicked == False:\n",
    "            pt1 = (x, y)\n",
    "            topleft_clicked = True\n",
    "            \n",
    "        elif botright_clicked == False:\n",
    "            pt2 = (x, y)\n",
    "            botright_clicked = True\n",
    "            \n",
    "\n",
    "# GLOBAL VARIABLES\n",
    "pt1 = (0, 0)\n",
    "pt2 = (0, 0)\n",
    "topleft_clicked = False\n",
    "botright_clicked = False\n",
    "\n",
    "\n",
    "# CONNECT TO THE CALLBACK\n",
    "cap = cv2.VideoCapture(0)\n",
    "cv2.namedWindow(\"Test\")\n",
    "cv2.setMouseCallback(\"Test\", draw_rectangle)\n",
    "\n",
    "while True:\n",
    "    ret, frame = cap.read()\n",
    "    \n",
    "    # DRAWING ON THE FRAME BASED ON THE GLOBAL VARIABLES \n",
    "    if topleft_clicked == True:\n",
    "        cv2.circle(frame, center=pt1, radius=5, color=(0, 0, 255), thickness=-1)\n",
    "        \n",
    "    if topleft_clicked and botright_clicked:\n",
    "        cv2.rectangle(frame, pt1, pt2, (0, 0, 255), 3)\n",
    "    \n",
    "    cv2.imshow(\"Test\", frame)\n",
    "    \n",
    "    if cv2.waitKey(1) & 0xFF == ord('q'):\n",
    "        break\n",
    "        \n",
    "cap.release()\n",
    "cv2.destroyAllWindows()"
   ]
  }
 ],
 "metadata": {
  "kernelspec": {
   "display_name": "Python 3",
   "language": "python",
   "name": "python3"
  },
  "language_info": {
   "codemirror_mode": {
    "name": "ipython",
    "version": 3
   },
   "file_extension": ".py",
   "mimetype": "text/x-python",
   "name": "python",
   "nbconvert_exporter": "python",
   "pygments_lexer": "ipython3",
   "version": "3.7.6"
  }
 },
 "nbformat": 4,
 "nbformat_minor": 4
}
